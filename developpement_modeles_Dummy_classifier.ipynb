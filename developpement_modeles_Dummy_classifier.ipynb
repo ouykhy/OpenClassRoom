{
 "cells": [
  {
   "cell_type": "code",
   "execution_count": 14,
   "id": "f7646c8f",
   "metadata": {},
   "outputs": [],
   "source": [
    "import pandas as pd\n",
    "import numpy as np\n",
    "from sklearn.dummy import DummyClassifier\n",
    "from sklearn.model_selection import train_test_split \n",
    "from sklearn.metrics import roc_curve"
   ]
  },
  {
   "cell_type": "code",
   "execution_count": 2,
   "id": "dd9dff9e",
   "metadata": {},
   "outputs": [],
   "source": [
    "home_credit_default_risk=pd.read_csv('pp_application_train_test_n.csv',sep=';')"
   ]
  },
  {
   "cell_type": "code",
   "execution_count": 3,
   "id": "9053f39d",
   "metadata": {},
   "outputs": [
    {
     "data": {
      "text/plain": [
       "(307507, 766)"
      ]
     },
     "execution_count": 3,
     "metadata": {},
     "output_type": "execute_result"
    }
   ],
   "source": [
    "home_credit_default_risk.shape"
   ]
  },
  {
   "cell_type": "code",
   "execution_count": 4,
   "id": "6d9de7c6",
   "metadata": {},
   "outputs": [],
   "source": [
    "y = home_credit_default_risk.TARGET"
   ]
  },
  {
   "cell_type": "code",
   "execution_count": 5,
   "id": "5b8391f6",
   "metadata": {},
   "outputs": [
    {
     "data": {
      "text/plain": [
       "(307507,)"
      ]
     },
     "execution_count": 5,
     "metadata": {},
     "output_type": "execute_result"
    }
   ],
   "source": [
    "y.shape"
   ]
  },
  {
   "cell_type": "code",
   "execution_count": 6,
   "id": "a4a35676",
   "metadata": {},
   "outputs": [],
   "source": [
    "X = home_credit_default_risk.drop(['TARGET'], axis=1)"
   ]
  },
  {
   "cell_type": "code",
   "execution_count": 7,
   "id": "6448a946",
   "metadata": {},
   "outputs": [
    {
     "data": {
      "text/plain": [
       "(307507, 765)"
      ]
     },
     "execution_count": 7,
     "metadata": {},
     "output_type": "execute_result"
    }
   ],
   "source": [
    "X.shape"
   ]
  },
  {
   "cell_type": "code",
   "execution_count": 15,
   "id": "cff7a031",
   "metadata": {},
   "outputs": [],
   "source": [
    "X_train, X_test, y_train, y_test = train_test_split( \n",
    "            X, y, test_size = 0.3, random_state = 0) "
   ]
  },
  {
   "cell_type": "markdown",
   "id": "23b07cfb",
   "metadata": {},
   "source": [
    "DummyClassifier fait des prédictions qui ignorent les fonctionnalités d'entrée (classificateur factice).\n",
    "\n",
    "Ce classificateur sert de base de référence simple pour comparer d’autres classificateurs plus complexes.\n",
    "Stratégie « most_frequent » : la prediction renvoie toujours l'étiquette de classe la plus fréquente dans l'argument y observé passé à fit."
   ]
  },
  {
   "cell_type": "code",
   "execution_count": 8,
   "id": "945329ad",
   "metadata": {},
   "outputs": [],
   "source": [
    "dummy_clf = DummyClassifier(strategy=\"most_frequent\")"
   ]
  },
  {
   "cell_type": "code",
   "execution_count": 16,
   "id": "101d7b40",
   "metadata": {},
   "outputs": [
    {
     "data": {
      "text/plain": [
       "DummyClassifier(strategy='most_frequent')"
      ]
     },
     "execution_count": 16,
     "metadata": {},
     "output_type": "execute_result"
    }
   ],
   "source": [
    "dummy_clf.fit(X_train, y_train)"
   ]
  },
  {
   "cell_type": "code",
   "execution_count": 18,
   "id": "0720d095",
   "metadata": {},
   "outputs": [
    {
     "data": {
      "text/plain": [
       "0.9194280944793123"
      ]
     },
     "execution_count": 18,
     "metadata": {},
     "output_type": "execute_result"
    }
   ],
   "source": [
    "dummy_clf.score(X_test, y_test) "
   ]
  },
  {
   "cell_type": "code",
   "execution_count": 24,
   "id": "0684a12a",
   "metadata": {},
   "outputs": [],
   "source": [
    "y_pred= dummy_clf.predict(X_test)\n",
    "y_pred_proba =dummy_clf.predict_proba(X_test)"
   ]
  },
  {
   "cell_type": "code",
   "execution_count": 25,
   "id": "e3f02035",
   "metadata": {},
   "outputs": [
    {
     "name": "stdout",
     "output_type": "stream",
     "text": [
      "ROC-AUC 0.5\n"
     ]
    }
   ],
   "source": [
    "from sklearn.metrics import roc_auc_score\n",
    "print(\"ROC-AUC\", roc_auc_score(y_test, dummy_clf.predict_proba(X_test)[:, 1]))"
   ]
  },
  {
   "cell_type": "code",
   "execution_count": 26,
   "id": "fb5103a2",
   "metadata": {},
   "outputs": [
    {
     "name": "stdout",
     "output_type": "stream",
     "text": [
      "accuracy 0.9194280944793123\n"
     ]
    }
   ],
   "source": [
    "from sklearn.metrics import accuracy_score\n",
    "print(\"accuracy\",accuracy_score(y_test, y_pred))"
   ]
  },
  {
   "cell_type": "code",
   "execution_count": 27,
   "id": "47159b5e",
   "metadata": {},
   "outputs": [
    {
     "name": "stdout",
     "output_type": "stream",
     "text": [
      "              precision    recall  f1-score   support\n",
      "\n",
      "           0       0.92      1.00      0.96     84820\n",
      "           1       0.00      0.00      0.00      7433\n",
      "\n",
      "    accuracy                           0.92     92253\n",
      "   macro avg       0.46      0.50      0.48     92253\n",
      "weighted avg       0.85      0.92      0.88     92253\n",
      "\n"
     ]
    },
    {
     "name": "stderr",
     "output_type": "stream",
     "text": [
      "C:\\ProgramData\\Anaconda3\\lib\\site-packages\\sklearn\\metrics\\_classification.py:1248: UndefinedMetricWarning: Precision and F-score are ill-defined and being set to 0.0 in labels with no predicted samples. Use `zero_division` parameter to control this behavior.\n",
      "  _warn_prf(average, modifier, msg_start, len(result))\n",
      "C:\\ProgramData\\Anaconda3\\lib\\site-packages\\sklearn\\metrics\\_classification.py:1248: UndefinedMetricWarning: Precision and F-score are ill-defined and being set to 0.0 in labels with no predicted samples. Use `zero_division` parameter to control this behavior.\n",
      "  _warn_prf(average, modifier, msg_start, len(result))\n",
      "C:\\ProgramData\\Anaconda3\\lib\\site-packages\\sklearn\\metrics\\_classification.py:1248: UndefinedMetricWarning: Precision and F-score are ill-defined and being set to 0.0 in labels with no predicted samples. Use `zero_division` parameter to control this behavior.\n",
      "  _warn_prf(average, modifier, msg_start, len(result))\n"
     ]
    }
   ],
   "source": [
    "from sklearn.metrics import classification_report\n",
    "print(classification_report(y_test, y_pred))"
   ]
  },
  {
   "cell_type": "code",
   "execution_count": 28,
   "id": "4049a5c1",
   "metadata": {},
   "outputs": [
    {
     "data": {
      "text/plain": [
       "array([[84820,     0],\n",
       "       [ 7433,     0]], dtype=int64)"
      ]
     },
     "execution_count": 28,
     "metadata": {},
     "output_type": "execute_result"
    }
   ],
   "source": [
    "from sklearn.metrics import confusion_matrix\n",
    "# Matrice de confusion\n",
    "confusion_matrix(y_test, y_pred)"
   ]
  }
 ],
 "metadata": {
  "kernelspec": {
   "display_name": "Python 3 (ipykernel)",
   "language": "python",
   "name": "python3"
  },
  "language_info": {
   "codemirror_mode": {
    "name": "ipython",
    "version": 3
   },
   "file_extension": ".py",
   "mimetype": "text/x-python",
   "name": "python",
   "nbconvert_exporter": "python",
   "pygments_lexer": "ipython3",
   "version": "3.9.7"
  }
 },
 "nbformat": 4,
 "nbformat_minor": 5
}
